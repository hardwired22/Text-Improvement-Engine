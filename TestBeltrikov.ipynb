{
 "cells": [
  {
   "cell_type": "markdown",
   "id": "872e360c-cb9b-40ba-a37a-9dae08b29eb8",
   "metadata": {},
   "source": [
    "Project Task: Text Improvement Engine EN\n",
    "\n",
    "Objective:\n",
    "Develop a tool that analyses a given text and suggests improvements based on the similarity to a list of \"standardised\" phrases. These standardised phrases represent the ideal way certain concepts should be articulated, and the tool should recommend changes to align the input text closer to these standards.\n",
    "\n",
    "Requirements:\n",
    "Data Input: Create a method for the user to input the text they wish to analyse. This could be through a simple UI or via a text file in CLI.\n",
    "\n",
    "Standardised Phrases: Pre-load the tool with a list of standardised phrases (e.g., business jargon, scientific terminology, etc.).\n",
    "\n",
    "Text Analysis: Use a pre-trained language model to find phrases in the input text that are semantically similar to any of the standardised phrases. Consider using techniques like cosine similarity with word embeddings. \n",
    "\n",
    "Suggestions: Provide a list of suggestions to replace phrases in the input text with their more \"standard\" versions. Each suggestion should show the original phrase, the recommended replacement, and the similarity score.\n"
   ]
  },
  {
   "cell_type": "markdown",
   "id": "156d419e-7f8b-40cc-baec-bbf6b284a69a",
   "metadata": {},
   "source": [
    "Проектная задача: Механизм улучшения текста  RU"
   ]
  },
  {
   "cell_type": "markdown",
   "id": "6799d598-4d00-4ed6-8306-c2bf67e9edbf",
   "metadata": {},
   "source": [
    "\n",
    "Цель:\n",
    "\n",
    "Разработать инструмент, который анализирует данный текст и предлагает улучшения на основе сходства с набором \"стандартизированных\" фраз. Эти стандартизированные фразы представляют собой идеальный способ формулировки определенных концепций, и инструмент должен рекомендовать изменения, чтобы приблизить входной текст к этим стандартам.\n",
    "\n",
    "Требования:\n",
    "\n",
    "Ввод данных: Создать метод для ввода пользователем текста, который они хотели бы проанализировать. Это может быть через простой пользовательский интерфейс или через текстовый файл в командной строке.\n",
    "Стандартизированные фразы: Предварительно загрузите инструмент набором стандартизированных фраз (например, деловой жаргон, научная терминология и т. д.).\n",
    "\n",
    "Анализ текста: Используйте предварительно обученную языковую модель для поиска фраз во входном тексте, семантически сходных с любой из стандартизированных фраз. Рассмотрите использование техник, таких как косинусное сходство с векторами слов.\n",
    "Предложения: Предоставьте список рекомендаций по замене фраз во входном тексте на более \"стандартные\" версии. Каждое предложение должно показывать исходную фразу, рекомендуемую замену и показатель сходства.\n",
    "\n",
    "Документация: Предоставьте файл README с подробным описанием процесса установки, использованными технологиями и обоснованием своих решений по дизайну.\n",
    "Этот проект даст вам возможность продемонстрировать разнообразные навыки, включая анализ текста, семантическое сходство и качество кода, и его выполнение должно быть возможным в течение 4 часов.\n",
    "\n"
   ]
  },
  {
   "cell_type": "code",
   "execution_count": 1,
   "id": "172e1452-07f5-4aa1-ab09-3e143a92eec2",
   "metadata": {},
   "outputs": [
    {
     "name": "stdout",
     "output_type": "stream",
     "text": [
      "Defaulting to user installation because normal site-packages is not writeable\n",
      "Requirement already satisfied: transformers in c:\\users\\mamay\\appdata\\roaming\\python\\python39\\site-packages (4.33.2)\n",
      "Requirement already satisfied: filelock in c:\\programdata\\anaconda3\\envs\\ds_practicum_env\\lib\\site-packages (from transformers) (3.12.4)\n",
      "Requirement already satisfied: huggingface-hub<1.0,>=0.15.1 in c:\\programdata\\anaconda3\\envs\\ds_practicum_env\\lib\\site-packages (from transformers) (0.17.1)\n",
      "Requirement already satisfied: numpy>=1.17 in c:\\programdata\\anaconda3\\envs\\ds_practicum_env\\lib\\site-packages (from transformers) (1.20.1)\n",
      "Requirement already satisfied: packaging>=20.0 in c:\\programdata\\anaconda3\\envs\\ds_practicum_env\\lib\\site-packages (from transformers) (23.1)\n",
      "Requirement already satisfied: pyyaml>=5.1 in c:\\programdata\\anaconda3\\envs\\ds_practicum_env\\lib\\site-packages (from transformers) (6.0.1)\n",
      "Requirement already satisfied: regex!=2019.12.17 in c:\\programdata\\anaconda3\\envs\\ds_practicum_env\\lib\\site-packages (from transformers) (2022.3.15)\n",
      "Requirement already satisfied: requests in c:\\programdata\\anaconda3\\envs\\ds_practicum_env\\lib\\site-packages (from transformers) (2.31.0)\n",
      "Requirement already satisfied: tokenizers!=0.11.3,<0.14,>=0.11.1 in c:\\users\\mamay\\appdata\\roaming\\python\\python39\\site-packages (from transformers) (0.13.3)\n",
      "Requirement already satisfied: safetensors>=0.3.1 in c:\\users\\mamay\\appdata\\roaming\\python\\python39\\site-packages (from transformers) (0.3.3)\n",
      "Requirement already satisfied: tqdm>=4.27 in c:\\programdata\\anaconda3\\envs\\ds_practicum_env\\lib\\site-packages (from transformers) (4.66.1)\n",
      "Requirement already satisfied: fsspec in c:\\programdata\\anaconda3\\envs\\ds_practicum_env\\lib\\site-packages (from huggingface-hub<1.0,>=0.15.1->transformers) (2023.9.1)\n",
      "Requirement already satisfied: typing-extensions>=3.7.4.3 in c:\\programdata\\anaconda3\\envs\\ds_practicum_env\\lib\\site-packages (from huggingface-hub<1.0,>=0.15.1->transformers) (4.7.1)\n",
      "Requirement already satisfied: colorama in c:\\programdata\\anaconda3\\envs\\ds_practicum_env\\lib\\site-packages (from tqdm>=4.27->transformers) (0.4.6)\n",
      "Requirement already satisfied: charset-normalizer<4,>=2 in c:\\programdata\\anaconda3\\envs\\ds_practicum_env\\lib\\site-packages (from requests->transformers) (3.2.0)\n",
      "Requirement already satisfied: idna<4,>=2.5 in c:\\programdata\\anaconda3\\envs\\ds_practicum_env\\lib\\site-packages (from requests->transformers) (3.4)\n",
      "Requirement already satisfied: urllib3<3,>=1.21.1 in c:\\programdata\\anaconda3\\envs\\ds_practicum_env\\lib\\site-packages (from requests->transformers) (1.26.16)\n",
      "Requirement already satisfied: certifi>=2017.4.17 in c:\\programdata\\anaconda3\\envs\\ds_practicum_env\\lib\\site-packages (from requests->transformers) (2023.7.22)\n",
      "Note: you may need to restart the kernel to use updated packages.\n"
     ]
    }
   ],
   "source": [
    "pip install transformers"
   ]
  },
  {
   "cell_type": "code",
   "execution_count": 2,
   "id": "851c0b95-f230-4043-8318-b2da0089820a",
   "metadata": {},
   "outputs": [],
   "source": [
    "from transformers import AutoModel, AutoTokenizer\n",
    "import torch\n",
    "import numpy as np\n",
    "import pandas as pd"
   ]
  },
  {
   "cell_type": "code",
   "execution_count": 3,
   "id": "4763400d-d627-4b4d-943c-4690a67d6397",
   "metadata": {},
   "outputs": [
    {
     "name": "stdout",
     "output_type": "stream",
     "text": [
      "Defaulting to user installation because normal site-packages is not writeable\n",
      "Requirement already satisfied: protobuf==3.20.0 in c:\\users\\mamay\\appdata\\roaming\\python\\python39\\site-packages (3.20.0)\n",
      "Note: you may need to restart the kernel to use updated packages.\n"
     ]
    }
   ],
   "source": [
    "pip install protobuf==3.20.0"
   ]
  },
  {
   "cell_type": "code",
   "execution_count": 4,
   "id": "1a70bbac-e930-488a-b3e8-9148fe62bbf0",
   "metadata": {},
   "outputs": [],
   "source": [
    "terms = pd.read_csv('D:/DATA/datasets/standardised_terms.csv')"
   ]
  },
  {
   "cell_type": "code",
   "execution_count": 5,
   "id": "0c3dc718-9334-4fab-aa25-78ef2b548509",
   "metadata": {},
   "outputs": [
    {
     "data": {
      "text/html": [
       "<div>\n",
       "<style scoped>\n",
       "    .dataframe tbody tr th:only-of-type {\n",
       "        vertical-align: middle;\n",
       "    }\n",
       "\n",
       "    .dataframe tbody tr th {\n",
       "        vertical-align: top;\n",
       "    }\n",
       "\n",
       "    .dataframe thead th {\n",
       "        text-align: right;\n",
       "    }\n",
       "</style>\n",
       "<table border=\"1\" class=\"dataframe\">\n",
       "  <thead>\n",
       "    <tr style=\"text-align: right;\">\n",
       "      <th></th>\n",
       "      <th>Optimal performance</th>\n",
       "    </tr>\n",
       "  </thead>\n",
       "  <tbody>\n",
       "    <tr>\n",
       "      <th>0</th>\n",
       "      <td>Utilise resources</td>\n",
       "    </tr>\n",
       "    <tr>\n",
       "      <th>1</th>\n",
       "      <td>Enhance productivity</td>\n",
       "    </tr>\n",
       "    <tr>\n",
       "      <th>2</th>\n",
       "      <td>Conduct an analysis</td>\n",
       "    </tr>\n",
       "    <tr>\n",
       "      <th>3</th>\n",
       "      <td>Maintain a high standard</td>\n",
       "    </tr>\n",
       "    <tr>\n",
       "      <th>4</th>\n",
       "      <td>Implement best practices</td>\n",
       "    </tr>\n",
       "    <tr>\n",
       "      <th>5</th>\n",
       "      <td>Ensure compliance</td>\n",
       "    </tr>\n",
       "    <tr>\n",
       "      <th>6</th>\n",
       "      <td>Streamline operations</td>\n",
       "    </tr>\n",
       "    <tr>\n",
       "      <th>7</th>\n",
       "      <td>Foster innovation</td>\n",
       "    </tr>\n",
       "    <tr>\n",
       "      <th>8</th>\n",
       "      <td>Drive growth</td>\n",
       "    </tr>\n",
       "    <tr>\n",
       "      <th>9</th>\n",
       "      <td>Leverage synergies</td>\n",
       "    </tr>\n",
       "    <tr>\n",
       "      <th>10</th>\n",
       "      <td>Demonstrate leadership</td>\n",
       "    </tr>\n",
       "    <tr>\n",
       "      <th>11</th>\n",
       "      <td>Exercise due diligence</td>\n",
       "    </tr>\n",
       "    <tr>\n",
       "      <th>12</th>\n",
       "      <td>Maximize stakeholder value</td>\n",
       "    </tr>\n",
       "    <tr>\n",
       "      <th>13</th>\n",
       "      <td>Prioritise tasks</td>\n",
       "    </tr>\n",
       "    <tr>\n",
       "      <th>14</th>\n",
       "      <td>Facilitate collaboration</td>\n",
       "    </tr>\n",
       "    <tr>\n",
       "      <th>15</th>\n",
       "      <td>Monitor performance metrics</td>\n",
       "    </tr>\n",
       "    <tr>\n",
       "      <th>16</th>\n",
       "      <td>Execute strategies</td>\n",
       "    </tr>\n",
       "    <tr>\n",
       "      <th>17</th>\n",
       "      <td>Gauge effectiveness</td>\n",
       "    </tr>\n",
       "    <tr>\n",
       "      <th>18</th>\n",
       "      <td>Champion change</td>\n",
       "    </tr>\n",
       "  </tbody>\n",
       "</table>\n",
       "</div>"
      ],
      "text/plain": [
       "            Optimal performance\n",
       "0             Utilise resources\n",
       "1          Enhance productivity\n",
       "2           Conduct an analysis\n",
       "3      Maintain a high standard\n",
       "4      Implement best practices\n",
       "5             Ensure compliance\n",
       "6         Streamline operations\n",
       "7             Foster innovation\n",
       "8                  Drive growth\n",
       "9            Leverage synergies\n",
       "10       Demonstrate leadership\n",
       "11       Exercise due diligence\n",
       "12   Maximize stakeholder value\n",
       "13             Prioritise tasks\n",
       "14     Facilitate collaboration\n",
       "15  Monitor performance metrics\n",
       "16           Execute strategies\n",
       "17          Gauge effectiveness\n",
       "18              Champion change"
      ]
     },
     "execution_count": 5,
     "metadata": {},
     "output_type": "execute_result"
    }
   ],
   "source": [
    "terms"
   ]
  },
  {
   "cell_type": "code",
   "execution_count": 6,
   "id": "70a8bf10-203f-4eb8-b6f9-0910d5bde2cd",
   "metadata": {},
   "outputs": [],
   "source": [
    "import os\n",
    "os.environ[\"PROTOCOL_BUFFERS_PYTHON_IMPLEMENTATION\"] = \"python\""
   ]
  },
  {
   "cell_type": "code",
   "execution_count": 7,
   "id": "801cb51c-6ec7-45c6-9fc9-50b5825b90e4",
   "metadata": {},
   "outputs": [],
   "source": [
    "model_name = \"bert-base-uncased\"\n",
    "model = AutoModel.from_pretrained(model_name)\n",
    "tokenizer = AutoTokenizer.from_pretrained(model_name)"
   ]
  },
  {
   "cell_type": "code",
   "execution_count": 8,
   "id": "9aa8ba6c-3cad-4e05-a48f-832b975ea0b5",
   "metadata": {},
   "outputs": [],
   "source": [
    "input_file_path = \"D:/DATA/datasets/sample_text.txt\"\n",
    "\n",
    "with open(input_file_path, \"r\") as file:\n",
    "    input_text = file.read()"
   ]
  },
  {
   "cell_type": "code",
   "execution_count": 9,
   "id": "9b6cf9b4-c212-4576-a2c9-5fbbd802575a",
   "metadata": {},
   "outputs": [
    {
     "data": {
      "text/plain": [
       "\"In today's meeting, we discussed a variety of issues affecting our department. The weather was unusually sunny, a pleasant backdrop to our serious discussions. We came to the consensus that we need to do better in terms of performance. Sally brought doughnuts, which lightened the mood. It's important to make good use of what we have at our disposal. During the coffee break, we talked about the upcoming company picnic. We should aim to be more efficient and look for ways to be more creative in our daily tasks. Growth is essential for our future, but equally important is building strong relationships with our team members. As a reminder, the annual staff survey is due next Friday. Lastly, we agreed that we must take time to look over our plans carefully and consider all angles before moving forward. On a side note, David mentioned that his cat is recovering well from surgery.\""
      ]
     },
     "execution_count": 9,
     "metadata": {},
     "output_type": "execute_result"
    }
   ],
   "source": [
    "input_text"
   ]
  },
  {
   "cell_type": "code",
   "execution_count": 10,
   "id": "277ea831-a01b-439e-b968-d312a0dcc008",
   "metadata": {},
   "outputs": [],
   "source": [
    "inputs = tokenizer(input_text, return_tensors=\"pt\", padding=True, truncation=True)"
   ]
  },
  {
   "cell_type": "code",
   "execution_count": 11,
   "id": "c10dd20c-038c-482a-b069-a059b7edd92a",
   "metadata": {},
   "outputs": [],
   "source": [
    "with torch.no_grad():\n",
    "    outputs = model(**inputs)\n",
    "embeddings = outputs.last_hidden_state.mean(dim=1).numpy()  "
   ]
  },
  {
   "cell_type": "code",
   "execution_count": 12,
   "id": "e6391d74-0411-4e2e-b242-13dc01cbd82b",
   "metadata": {},
   "outputs": [],
   "source": [
    "standardized_phrases = [\n",
    "    \"Optimal performance\",\n",
    "    \"Utilize resources\",\n",
    "    \"Enhance productivity\",\n",
    "    \"Conduct an analysis\",\n",
    "    \"Maintain a high standard\",\n",
    "    \"Implement best practices\",\n",
    "    \"Ensure compliance\",\n",
    "    \"Streamline operations\",\n",
    "    \"Foster innovation\",\n",
    "    \"Drive growth\",\n",
    "    \"Leverage synergies\",\n",
    "    \"Demonstrate leadership\",\n",
    "    \"Exercise due diligence\",\n",
    "    \"Maximize stakeholder value\",\n",
    "    \"Prioritize tasks\",\n",
    "    \"Facilitate collaboration\",\n",
    "    \"Monitor performance metrics\",\n",
    "    \"Execute strategies\",\n",
    "    \"Gauge effectiveness\",\n",
    "    \"Champion change\"\n",
    "]"
   ]
  },
  {
   "cell_type": "code",
   "execution_count": 13,
   "id": "71661cef-6b3a-4a3f-a657-10553ef96766",
   "metadata": {},
   "outputs": [],
   "source": [
    "threshold = 0.5\n",
    "suggestions = []"
   ]
  },
  {
   "cell_type": "code",
   "execution_count": 14,
   "id": "cafe29ed-daf4-4f01-9a12-e27ea6baa301",
   "metadata": {},
   "outputs": [],
   "source": [
    "for phrase in standardized_phrases:\n",
    "    phrase_inputs = tokenizer(phrase, return_tensors=\"pt\", padding=True, truncation=True)\n",
    "    with torch.no_grad():\n",
    "        phrase_outputs = model(**phrase_inputs)\n",
    "    phrase_embedding = phrase_outputs.last_hidden_state.mean(dim=1).numpy()\n",
    "    similarity = np.dot(embeddings, phrase_embedding.T) / (np.linalg.norm(embeddings) * np.linalg.norm(phrase_embedding))\n",
    "    if similarity > threshold:\n",
    "        suggestions.append((input_text, phrase, similarity))"
   ]
  },
  {
   "cell_type": "code",
   "execution_count": 15,
   "id": "788b6a9d-f6e8-4141-ad94-ee884ab20cb5",
   "metadata": {},
   "outputs": [
    {
     "name": "stdout",
     "output_type": "stream",
     "text": [
      "Original Text: In today's meeting, we discussed a variety of issues affecting our department. The weather was unusually sunny, a pleasant backdrop to our serious discussions. We came to the consensus that we need to do better in terms of performance. Sally brought doughnuts, which lightened the mood. It's important to make good use of what we have at our disposal. During the coffee break, we talked about the upcoming company picnic. We should aim to be more efficient and look for ways to be more creative in our daily tasks. Growth is essential for our future, but equally important is building strong relationships with our team members. As a reminder, the annual staff survey is due next Friday. Lastly, we agreed that we must take time to look over our plans carefully and consider all angles before moving forward. On a side note, David mentioned that his cat is recovering well from surgery.\n",
      "Recommended Phrase: Maintain a high standard\n",
      "Similarity Score: 0.54\n",
      "\n",
      "Original Text: In today's meeting, we discussed a variety of issues affecting our department. The weather was unusually sunny, a pleasant backdrop to our serious discussions. We came to the consensus that we need to do better in terms of performance. Sally brought doughnuts, which lightened the mood. It's important to make good use of what we have at our disposal. During the coffee break, we talked about the upcoming company picnic. We should aim to be more efficient and look for ways to be more creative in our daily tasks. Growth is essential for our future, but equally important is building strong relationships with our team members. As a reminder, the annual staff survey is due next Friday. Lastly, we agreed that we must take time to look over our plans carefully and consider all angles before moving forward. On a side note, David mentioned that his cat is recovering well from surgery.\n",
      "Recommended Phrase: Exercise due diligence\n",
      "Similarity Score: 0.55\n",
      "\n",
      "Original Text: In today's meeting, we discussed a variety of issues affecting our department. The weather was unusually sunny, a pleasant backdrop to our serious discussions. We came to the consensus that we need to do better in terms of performance. Sally brought doughnuts, which lightened the mood. It's important to make good use of what we have at our disposal. During the coffee break, we talked about the upcoming company picnic. We should aim to be more efficient and look for ways to be more creative in our daily tasks. Growth is essential for our future, but equally important is building strong relationships with our team members. As a reminder, the annual staff survey is due next Friday. Lastly, we agreed that we must take time to look over our plans carefully and consider all angles before moving forward. On a side note, David mentioned that his cat is recovering well from surgery.\n",
      "Recommended Phrase: Maximize stakeholder value\n",
      "Similarity Score: 0.56\n",
      "\n"
     ]
    }
   ],
   "source": [
    "for suggestion in suggestions:\n",
    "    original_text, recommended_phrase, similarity_score = suggestion\n",
    "    similarity_score = similarity_score.item()\n",
    "    print(f\"Original Text: {original_text}\")\n",
    "    print(f\"Recommended Phrase: {recommended_phrase}\")\n",
    "    print(f\"Similarity Score: {similarity_score:.2f}\")\n",
    "    print()"
   ]
  },
  {
   "cell_type": "code",
   "execution_count": null,
   "id": "2bd7eee8-2377-4448-aba5-52d01a824550",
   "metadata": {},
   "outputs": [],
   "source": []
  }
 ],
 "metadata": {
  "kernelspec": {
   "display_name": "Python 3 (ipykernel)",
   "language": "python",
   "name": "python3"
  },
  "language_info": {
   "codemirror_mode": {
    "name": "ipython",
    "version": 3
   },
   "file_extension": ".py",
   "mimetype": "text/x-python",
   "name": "python",
   "nbconvert_exporter": "python",
   "pygments_lexer": "ipython3",
   "version": "3.11.4"
  }
 },
 "nbformat": 4,
 "nbformat_minor": 5
}
